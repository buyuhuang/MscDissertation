{
 "cells": [
  {
   "cell_type": "markdown",
   "metadata": {},
   "source": [
    "# Calculation of ICV (index of living conditions)\n",
    "\n",
    "ICV calculated from 2010 census data (INEC 2010):\n",
    "http://www.ecuadorencifras.gob.ec/documentos/datos/Poblacion_y_Demografia/Censo_poblacion_y_vivienda_/bdd_nivel_manzana_censal/Spss/CPV2010M_SPSS_Azuay.zip\n",
    "\n",
    "Calculation of ICV for Census data in Ecuador proposed by Orellana & Osorio (2014):\n",
    "https://ideas.repec.org/a/inp/inpana/v8y2014i2p27-38.html"
   ]
  },
  {
   "cell_type": "code",
   "execution_count": 1,
   "metadata": {},
   "outputs": [
    {
     "name": "stderr",
     "output_type": "stream",
     "text": [
      "Warning message:\n",
      "\"package 'haven' was built under R version 3.4.1\"Warning message:\n",
      "\"package 'ggthemes' was built under R version 3.4.1\""
     ]
    }
   ],
   "source": [
    "library(haven)\n",
    "library(plyr)\n",
    "library(ggplot2)\n",
    "library(ggthemes)"
   ]
  },
  {
   "cell_type": "markdown",
   "metadata": {},
   "source": [
    "data in SPSS format"
   ]
  },
  {
   "cell_type": "code",
   "execution_count": 2,
   "metadata": {
    "collapsed": true
   },
   "outputs": [],
   "source": [
    "d_viv<-read_sav(\"input_data/Azuay_Viv_Manz.sav\")\n",
    "d_hog<-read_sav(\"input_data/Azuay_Hog_Manz.sav\")\n",
    "d_pob<-read_sav(\"input_data/Azuay_Pob_Manz.sav\")\n",
    "urbanArea_ids<-read.csv(\"input_data/cuenca_urban_block_ids.csv\", colClasses = \"character\")"
   ]
  },
  {
   "cell_type": "markdown",
   "metadata": {},
   "source": [
    "create new dataframes to store relevant values "
   ]
  },
  {
   "cell_type": "code",
   "execution_count": 3,
   "metadata": {
    "collapsed": true
   },
   "outputs": [],
   "source": [
    "dwelling<-d_viv[,c('id_man','id_viv')]\n",
    "home<-d_hog[,c('id_viv','id_hog')]\n",
    "pop<-d_pob[,c('id_viv','id_hog')]"
   ]
  },
  {
   "cell_type": "markdown",
   "metadata": {},
   "source": [
    "## Map scores to variables"
   ]
  },
  {
   "cell_type": "code",
   "execution_count": 4,
   "metadata": {
    "collapsed": true
   },
   "outputs": [],
   "source": [
    "#create dictionary to map variables\n",
    "floor_dict<-list( '1'= 2, '2'=0 ,'3'=2,'4'=1,'5'=0, '6'=0,'7'=0, 'NA'=NA)\n",
    "wall_dict<-list( '1'= 3, '2'= 3,'3'=2,'4'=2,'5'=1, '6'=0,'7'=0, 'NA'=NA)\n",
    "roof_dict<-list( '1'=2 , '2'= 1,'3'=1,'4'=2,'5'=0, '6'=0, 'NA'=NA)\n",
    "water_dict<-list( '1'=3, '2'=2 ,'3'=1,'4'=0, 'NA'=NA)\n",
    "drainage_dict<-list( '1'=2, '2'=1 ,'3'=0,'4'=0, '5'=0,'6'=0 ,'NA'=NA)\n",
    "waste_dict<-list( '1'=1, '2'=0 ,'3'=0,'4'=0, '5'=0,'6'=0 ,'NA'=NA)\n",
    "electricity_dict<-list( '1'=1, '2'=1,'3'=1,'4'=1, '5'=0,'NA'=NA)\n",
    "kitchen_dict<-list( '1'=1, '2'=0,'NA'=NA) \n",
    "bathroom_dict<-list( '1'= 1 , '2'= 0 , '3' = 0,'NA'= NA ) \n",
    "stove_dict<-list( '1'= 1 , '2'= 1 , '3' = 1, '4'= 0, '5'=0, '6'=0, '7'=0,'NA'= NA ) #H05\n",
    "phone_dict<-list('1'=1, '2'=0, 'NA'=NA) \n",
    "cell_dict<-list('1'=1, '2'=0, 'NA'=NA) \n",
    "internet_dict<-list('1' =1 , '2'=0, 'NA'= NA) \n",
    "tv_dict<-list('1'=2 , '2'=1 , 'NA'=NA)\n",
    "privhealthcare_dict<-list('1' = 1, '2'=0, '9'=0, 'NA' = NA)\n",
    "pubhealthcare_dict<-list('1' = 1, '2'=1, '3'=1, '4' = 1, '5'= 1, '6'=1, '7'=0, '9'=0, 'NA' = NA)"
   ]
  },
  {
   "cell_type": "code",
   "execution_count": 5,
   "metadata": {
    "collapsed": true
   },
   "outputs": [],
   "source": [
    "#map variables to dataframes\n",
    "dwelling$floor<-sapply(d_viv$V05, function(x) get(as.character(x), floor_dict)/2)\n",
    "dwelling$walls<-sapply(d_viv$V03, function(x) get(as.character(x), wall_dict)/3)\n",
    "dwelling$roof<-sapply(d_viv$V01, function(x) get(as.character(x), roof_dict)/2)\n",
    "dwelling$water<-sapply(d_viv$V08, function(x) get(as.character(x), water_dict)/3)\n",
    "dwelling$drainage<-sapply(d_viv$V09, function(x) get(as.character(x), drainage_dict))\n",
    "dwelling$waste<-sapply(d_viv$V13, function(x) get(as.character(x), waste_dict))\n",
    "dwelling$electricity<-sapply(d_viv$V10, function(x) get(as.character(x), electricity_dict))\n",
    "dwelling$bedrooms<-(d_viv$TOTDOR / d_viv$TOTPER)\n",
    "dwelling$rooms<-sapply(d_viv$V14-d_viv$TOTDOR, function(x) if(!is.na(x)){ if(x>0){1} else{0} } else{NA} )\n",
    "home$kitchen<-sapply(d_hog$H02, function(x) get(as.character(x), kitchen_dict))\n",
    "home$bathroom<-sapply(d_hog$H03, function(x) get(as.character(x), bathroom_dict))\n",
    "home$stove<-sapply(d_hog$H05, function(x) get(as.character(x), stove_dict))\n",
    "home$phone<-sapply(d_hog$H07, function(x) get(as.character(x), phone_dict))\n",
    "home$cell<-sapply(d_hog$H08, function(x) get(as.character(x), cell_dict))\n",
    "home$internet<-sapply(d_hog$H09, function(x) get(as.character(x), internet_dict))\n",
    "home$tv<-sapply(d_hog$H11, function(x) get(as.character(x), tv_dict))\n",
    "schooling_score<-function(schooling, age){\n",
    "  if(!(is.na(schooling) || schooling==99)){\n",
    "    if(age>18){\n",
    "      return(schooling/13)\n",
    "    }\n",
    "    else if(age>5){\n",
    "      return(schooling/(age-5))\n",
    "    }\n",
    "    else{0}\n",
    "  }\n",
    "  else{NA}\n",
    "}\n",
    "\n",
    "pop$schooling<-mapply(schooling_score, d_pob$GRAESC, d_pob$P03)\n",
    "pop$privhealthcare<-sapply(d_pob$P07, function(x) get(as.character(x), privhealthcare_dict))\n",
    "pop$pubhealthcare<-sapply(d_pob$P35, function(x) get(as.character(x), pubhealthcare_dict))\n",
    "pop$healthcare<-sapply(pop$privhealthcare+pop$pubhealthcare, function(x) if(!is.na(x)){ if(x>0){1}else{0.5} }else{NA})   \n",
    "    "
   ]
  },
  {
   "cell_type": "markdown",
   "metadata": {},
   "source": [
    "## Rescale relevant values (0-2)"
   ]
  },
  {
   "cell_type": "code",
   "execution_count": 6,
   "metadata": {
    "collapsed": true
   },
   "outputs": [],
   "source": [
    "#rescale number of bedrooms and schooling\n",
    "dwelling$bedrooms_rs<-sapply(dwelling$bedrooms, function(x) if(!is.na(x)){ if(x>0){ 1 + ((x-1)/(max(dwelling$bedrooms, na.rm = T)-1)) }else{0} }else{NA} )\n",
    "\n",
    "#rescale schooling score\n",
    "pop$schooling_rs<-sapply(pop$schooling, function(x) if(!is.na(x)){ if(x>0){ 1 + ((x-1)/(max(pop$schooling, na.rm = T)-1)) }else{0} }else{NA} )"
   ]
  },
  {
   "cell_type": "markdown",
   "metadata": {},
   "source": [
    "## Aggregate population scores to home units"
   ]
  },
  {
   "cell_type": "code",
   "execution_count": 7,
   "metadata": {
    "collapsed": true
   },
   "outputs": [],
   "source": [
    "pop_mean<-ddply(pop, .(id_hog), summarize, \n",
    "                num_people = length(id_hog), \n",
    "                schooling = mean(schooling_rs, na.rm = T), \n",
    "                healthcare = mean(healthcare, na.rm = T))\n",
    "home<-merge(home, pop_mean, by='id_hog')"
   ]
  },
  {
   "cell_type": "markdown",
   "metadata": {},
   "source": [
    "## Aggregate home unit scores to dwelling units"
   ]
  },
  {
   "cell_type": "code",
   "execution_count": 8,
   "metadata": {
    "collapsed": true
   },
   "outputs": [],
   "source": [
    "home_mean<-ddply(home, .(id_viv), summarize, \n",
    "      num_homes = length(id_viv),\n",
    "      num_people = sum(num_people, na.rm = T),\n",
    "      kitchen = mean(kitchen, na.rm = T),\n",
    "      bathroom = mean(bathroom, na.rm = T),\n",
    "      stove = mean(stove, na.rm = T),\n",
    "      phone = mean(phone, na.rm = T),\n",
    "      cell = mean(cell, na.rm = T),\n",
    "      internet = mean(internet, na.rm = T),\n",
    "      tv = mean(tv, na.rm = T),\n",
    "      healthcare = mean(healthcare, na.rm = T), \n",
    "      schooling = mean(schooling, na.rm = T)\n",
    "      )\n",
    "dwelling<-merge(dwelling, home_mean, by = 'id_viv')"
   ]
  },
  {
   "cell_type": "markdown",
   "metadata": {},
   "source": [
    "## Weighted sum of scores (ICV index at dwelling level)"
   ]
  },
  {
   "cell_type": "code",
   "execution_count": 9,
   "metadata": {
    "collapsed": true
   },
   "outputs": [],
   "source": [
    "dwelling$ICV<- dwelling$floor*((1/3)*(1/2)*(1/4)) + \n",
    "  dwelling$walls*((1/3)*(1/2)*(1/4)) + \n",
    "  dwelling$roof*((1/3)*(1/2)*(1/4)) +\n",
    "  dwelling$kitchen*((1/4)*(1/2)*(1/4)) + \n",
    "  dwelling$bathroom*((1/4)*(1/2)*(1/4)) +\n",
    "  dwelling$bedrooms_rs*((1/4)*(1/2)*(1/4)) +\n",
    "  dwelling$rooms*((1/4)*(1/2)*(1/4)) + \n",
    "  dwelling$water*((2/5)*(1/2)*(1/4)) + \n",
    "  dwelling$drainage*((2/5)*(1/2)*(1/4)) + \n",
    "  dwelling$waste*((1/5)*(1/2)*(1/4)) + \n",
    "  dwelling$electricity*((1/2)*(1/4)*(1/4)) + \n",
    "  dwelling$stove*((1/2)*(1/4)*(1/4)) + \n",
    "  dwelling$phone*((1/4)*(1/4)*(1/4)) + \n",
    "  dwelling$cell*((1/4)*(1/4)*(1/4)) +\n",
    "  dwelling$internet*((1/4)*(1/4)*(1/4)) +\n",
    "  dwelling$tv*((1/4)*(1/4)*(1/4)) + \n",
    "  dwelling$schooling*(1/4) + \n",
    "  dwelling$healthcare*(1/4)"
   ]
  },
  {
   "cell_type": "markdown",
   "metadata": {},
   "source": [
    "## Group values based on quantlies"
   ]
  },
  {
   "cell_type": "code",
   "execution_count": 10,
   "metadata": {
    "collapsed": true
   },
   "outputs": [],
   "source": [
    "#subset only Cuenca Urban Area\n",
    "ids <- urbanArea_ids$DPA_MANZAN\n",
    "dwelling <- dwelling[which(dwelling$id_man %in% ids),]\n",
    "#group by quantiles\n",
    "dwelling$quartile <- with(dwelling, cut(ICV,\n",
    "                                        breaks=quantile(ICV, probs=seq(0,1, by=0.25), na.rm=TRUE),\n",
    "                                        include.lowest=TRUE, labels = c('Q1', 'Q2', 'Q3', 'Q4')))"
   ]
  },
  {
   "cell_type": "markdown",
   "metadata": {},
   "source": [
    "## Aggregate groups to block level"
   ]
  },
  {
   "cell_type": "code",
   "execution_count": 11,
   "metadata": {
    "collapsed": true
   },
   "outputs": [],
   "source": [
    "#measured as percentage of population within block belonging to group\n",
    "blockICV<-ddply(dwelling, .(id_man), summarize, \n",
    "                Q1 = sum(num_people[which(quartile == 'Q1')]) / sum(num_people), \n",
    "                Q2 = sum(num_people[which(quartile == 'Q2')]) / sum(num_people),\n",
    "                Q3 = sum(num_people[which(quartile == 'Q3')]) / sum(num_people),\n",
    "                Q4 = sum(num_people[which(quartile == 'Q4')]) / sum(num_people),\n",
    "                ICV = mean(ICV, na.rm=TRUE),\n",
    "                nDwellings = sum(num_homes),\n",
    "                nPeople = sum(num_people)\n",
    "                )"
   ]
  },
  {
   "cell_type": "markdown",
   "metadata": {},
   "source": [
    "## Output results to CSV"
   ]
  },
  {
   "cell_type": "code",
   "execution_count": 12,
   "metadata": {
    "collapsed": true
   },
   "outputs": [],
   "source": [
    "write.csv(dwelling, file = \"output_data/ICV_viv.csv\", row.names = FALSE)\n",
    "write.csv(blockICV, file = \"output_data/blockICV.csv\", row.names = FALSE)"
   ]
  },
  {
   "cell_type": "markdown",
   "metadata": {},
   "source": [
    "## Create Plots to explore data"
   ]
  },
  {
   "cell_type": "code",
   "execution_count": 36,
   "metadata": {},
   "outputs": [
    {
     "data": {},
     "metadata": {},
     "output_type": "display_data"
    },
    {
     "data": {
      "image/png": "[encoded data removed]",
      "text/plain": [
       "plot without title"
      ]
     },
     "metadata": {},
     "output_type": "display_data"
    }
   ],
   "source": [
    "# data <- dwelling[which(!is.na(dwelling$ICV)),]\n",
    "# data<- merge(data, home, by = 'id_viv')\n",
    "# data<-merge(data, pop, by = 'id_hog')\n",
    "\n",
    "# data$ <- block\n",
    "\n",
    "# ggplot(data = data, aes(ICV)) + \n",
    "#     geom_histogram(aes(y = ..density..),\n",
    "#                    breaks = seq(0.5,1.5,by = 0.025),\n",
    "#                   ) + \n",
    "#     geom_density(col=2)+\n",
    "#     labs(title = \"Frequency distribution of ICV values per block\",\n",
    "#          x = 'ICV index',\n",
    "#          y = '') + theme_minimal()\n",
    "\n",
    "# ggplot(data = data, aes(ICV)) + \n",
    "#     geom_histogram(aes(y = ..density..),\n",
    "#                    breaks = seq(0.5,1.5,by = 0.025),\n",
    "#                   ) + \n",
    "#     geom_density(col=2)+\n",
    "#     labs(title = \"Population in Each Quartile\",\n",
    "#          x = 'ICV index',\n",
    "#          y = '') + theme_minimal()\n",
    "\n",
    "myplot <-ggplot(data, aes(ICV)) + stat_ecdf(geom = \"step\") + \n",
    "    labs(title = \"Empirical Cumulative Density Function of ICV index\",\n",
    "     y = \"F(ICV index)\",\n",
    "     x = \"ICV index\"\n",
    "    ) + \n",
    "    scale_x_continuous(breaks = seq(from=0, to=1.5, by=0.1))+\n",
    "    theme_minimal()\n",
    "myplot\n",
    "# ggsave(\"ICV.pdf\")\n",
    "\n",
    "# ggplot(data, aes(ICV, ..density..)) + \n",
    "#     geom_histogram(binwidth=.05,\n",
    "#                    colour=\"black\", fill=\"white\") +\n",
    "#     geom_density(color = 'red')+\n",
    "#     labs(title = \"ICV index values for Cuenca\",\n",
    "#          y = \"Density\",\n",
    "#          x = \"ICV index\"\n",
    "#         ) + \n",
    "#     geom_vline(aes(xintercept=mean(ICV, na.rm=T)), color = 'red', linetype = 'dashed')+\n",
    "#     scale_x_continuous(breaks = seq(from=0, to=1.5, by=0.1))+\n",
    "#     theme_minimal()\n",
    "# ggsave(\"ICV2.pdf\")"
   ]
  },
  {
   "cell_type": "code",
   "execution_count": null,
   "metadata": {
    "collapsed": true
   },
   "outputs": [],
   "source": []
  }
 ],
 "metadata": {
  "kernelspec": {
   "display_name": "R",
   "language": "R",
   "name": "ir"
  },
  "language_info": {
   "codemirror_mode": "r",
   "file_extension": ".r",
   "mimetype": "text/x-r-source",
   "name": "R",
   "pygments_lexer": "r",
   "version": "3.4.0"
  }
 },
 "nbformat": 4,
 "nbformat_minor": 2
}
